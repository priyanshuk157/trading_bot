{
 "cells": [
  {
   "cell_type": "code",
   "execution_count": null,
   "id": "a4834115-6fdf-413e-9c6f-ffaec627e7c2",
   "metadata": {},
   "outputs": [
    {
     "ename": "",
     "evalue": "",
     "output_type": "error",
     "traceback": [
      "\u001b[1;31mFailed to start the Kernel. \n",
      "\u001b[1;31mBad file descriptor (C:\\Users\\runneradmin\\AppData\\Local\\Temp\\tmpw8fxpxar\\build\\_deps\\bundled_libzmq-src\\src\\epoll.cpp:73). \n",
      "\u001b[1;31mView Jupyter <a href='command:jupyter.viewOutput'>log</a> for further details."
     ]
    }
   ],
   "source": [
    "from datetime import datetime\n",
    "import yfinance as yf\n",
    "import time"
   ]
  },
  {
   "cell_type": "code",
   "execution_count": null,
   "id": "4a0341a4-d7ed-4fb5-9b1f-58fa4be78a09",
   "metadata": {},
   "outputs": [
    {
     "ename": "",
     "evalue": "",
     "output_type": "error",
     "traceback": [
      "\u001b[1;31mFailed to start the Kernel. \n",
      "\u001b[1;31mBad file descriptor (C:\\Users\\runneradmin\\AppData\\Local\\Temp\\tmpw8fxpxar\\build\\_deps\\bundled_libzmq-src\\src\\epoll.cpp:73). \n",
      "\u001b[1;31mView Jupyter <a href='command:jupyter.viewOutput'>log</a> for further details."
     ]
    }
   ],
   "source": [
    "class MyTradingStrategy:\n",
    "    def __init__(self, name):\n",
    "        self.__name = name\n",
    "\n",
    "    def generateSignal(self , price_data):\n",
    "        print(\"this method is intended to be over ridden\")\n",
    "        return \"Hold\"\n",
    "    @property\n",
    "    def name(self):\n",
    "        return self.__name\n",
    "    "
   ]
  },
  {
   "cell_type": "code",
   "execution_count": null,
   "id": "b2dc7295-8d85-4575-9a1f-080d7100bb00",
   "metadata": {},
   "outputs": [
    {
     "ename": "",
     "evalue": "",
     "output_type": "error",
     "traceback": [
      "\u001b[1;31mFailed to start the Kernel. \n",
      "\u001b[1;31mBad file descriptor (C:\\Users\\runneradmin\\AppData\\Local\\Temp\\tmpw8fxpxar\\build\\_deps\\bundled_libzmq-src\\src\\epoll.cpp:73). \n",
      "\u001b[1;31mView Jupyter <a href='command:jupyter.viewOutput'>log</a> for further details."
     ]
    }
   ],
   "source": [
    "obj1 = MyTradingStrategy(\"awesome\")\n",
    "obj1.name\n"
   ]
  },
  {
   "cell_type": "code",
   "execution_count": null,
   "id": "3d32f209-b0ac-4e45-aa80-dcd821df9a2c",
   "metadata": {},
   "outputs": [
    {
     "ename": "",
     "evalue": "",
     "output_type": "error",
     "traceback": [
      "\u001b[1;31mFailed to start the Kernel. \n",
      "\u001b[1;31mBad file descriptor (C:\\Users\\runneradmin\\AppData\\Local\\Temp\\tmpw8fxpxar\\build\\_deps\\bundled_libzmq-src\\src\\epoll.cpp:73). \n",
      "\u001b[1;31mView Jupyter <a href='command:jupyter.viewOutput'>log</a> for further details."
     ]
    }
   ],
   "source": [
    "class NewsSMATradingStrategy(MyTradingStrategy):\n",
    "     def __init__(self, swindow , lwindow):\n",
    "         self.__swindow = swindow\n",
    "         self.__lwindow = lwindow\n",
    "         super().__init__(\"MYSMATRADING\")\n",
    "\n",
    "     def generateSignal(self,price_data):\n",
    "         if len(price_data[-self.__lwindow:]) < self.__lwindow:\n",
    "            return \"hold\"\n",
    "         short_avg = sum(price_data[-self.__swindow:])/self.__swindow \n",
    "         long_avg = sum(price_data[-self.__lwindow:])/self.__lwindow \n",
    "\n",
    "         if short_avg > long_avg:\n",
    "            return \"buy\"\n",
    "           \n",
    "         elif short_avg < long_avg:\n",
    "            return \"sell\"\n",
    "         else:\n",
    "            return \"hold\"\n",
    "\n",
    "     @property\n",
    "     def swindow(self):\n",
    "        return self.__swindow\n",
    "        \n",
    "     @property\n",
    "     def lwindow(self):\n",
    "        return self.__lwindow"
   ]
  },
  {
   "cell_type": "code",
   "execution_count": null,
   "id": "5bd28304-3fdb-4d4e-aa92-4a61d656a2fd",
   "metadata": {},
   "outputs": [
    {
     "ename": "",
     "evalue": "",
     "output_type": "error",
     "traceback": [
      "\u001b[1;31mFailed to start the Kernel. \n",
      "\u001b[1;31mBad file descriptor (C:\\Users\\runneradmin\\AppData\\Local\\Temp\\tmpw8fxpxar\\build\\_deps\\bundled_libzmq-src\\src\\epoll.cpp:73). \n",
      "\u001b[1;31mView Jupyter <a href='command:jupyter.viewOutput'>log</a> for further details."
     ]
    }
   ],
   "source": [
    "class TradeManage:\n",
    "    def __init__(self, amount, strategyName, signal):\n",
    "        self.__strategyName = strategyName\n",
    "        self.__signal = signal\n",
    "        self.__amount = amount\n",
    "        self.__timestamp = datetime.now()  \n",
    "\n",
    "    def execute(self):\n",
    "        print(f\"Execute {self.__signal} with the strategy name {self.__strategyName} and amount of {self.__amount} at time {self.__timestamp} \")\n",
    "\n",
    "    @property\n",
    "    def amount(self):\n",
    "        return self.__amount\n",
    "        \n",
    "    @property\n",
    "    def signal(self):\n",
    "        return self.__signal\n",
    "    @property\n",
    "    def strategyName(self):\n",
    "        return self.__strategyName\n",
    "    @property\n",
    "    def timestamp(self):\n",
    "        return self.__timestamp"
   ]
  },
  {
   "cell_type": "code",
   "execution_count": null,
   "id": "c0b5ae40-2d56-4485-90c7-454d13b77c1b",
   "metadata": {},
   "outputs": [
    {
     "ename": "",
     "evalue": "",
     "output_type": "error",
     "traceback": [
      "\u001b[1;31mFailed to start the Kernel. \n",
      "\u001b[1;31mBad file descriptor (C:\\Users\\runneradmin\\AppData\\Local\\Temp\\tmpw8fxpxar\\build\\_deps\\bundled_libzmq-src\\src\\epoll.cpp:73). \n",
      "\u001b[1;31mView Jupyter <a href='command:jupyter.viewOutput'>log</a> for further details."
     ]
    }
   ],
   "source": [
    "obj1 = NewsSMATradingStrategy(3 , 5)\n",
    "strategy_Name = obj1.name\n",
    "signal = obj1.generateSignal([1,2,3,4,5,6,7])\n",
    "NewTrading = TradeManage(10000, strategy_Name, signal)\n",
    "NewTrading.execute()\n",
    "print(NewTrading.signal)\n",
    "print(NewTrading.strategyName)\n",
    "print(NewTrading.timestamp)\n",
    "print(NewTrading.amount)"
   ]
  },
  {
   "cell_type": "code",
   "execution_count": null,
   "id": "d295acb9-eb9d-4647-ab08-da8662f56e82",
   "metadata": {},
   "outputs": [
    {
     "ename": "",
     "evalue": "",
     "output_type": "error",
     "traceback": [
      "\u001b[1;31mFailed to start the Kernel. \n",
      "\u001b[1;31mBad file descriptor (C:\\Users\\runneradmin\\AppData\\Local\\Temp\\tmpw8fxpxar\\build\\_deps\\bundled_libzmq-src\\src\\epoll.cpp:73). \n",
      "\u001b[1;31mView Jupyter <a href='command:jupyter.viewOutput'>log</a> for further details."
     ]
    }
   ],
   "source": [
    "\n",
    "#Mock trading  API\n",
    "trade = TradeManage(10000, strategy_Name, signal)\n",
    "\n",
    "class MockTradingAPI:\n",
    "    def __init__(self, balance):\n",
    "        self.__balance = balance\n",
    "\n",
    "    def placeOrder(self, trade, price):\n",
    "        if trade.signal == \"Buy\" and self.balance >= trade.amount * price:\n",
    "            self.__balance -= trade.amount*price \n",
    "            print(f\"placed a buy trade at the price of {price} , remaining balance is {self.__balance}\")\n",
    "        \n",
    "        elif trade.signal == \"Sell\":\n",
    "            self.__balance += trade.amount*price\n",
    "            print(f\"placed a sell trade at the price of {price} , remaining balance is {self.__balance}\")\n",
    "        \n",
    "        else:\n",
    "            print(\"insufficient balance or invalid signal\")\n",
    "    @property\n",
    "    def balance(self):\n",
    "        return self.__balance        "
   ]
  },
  {
   "cell_type": "code",
   "execution_count": null,
   "id": "6dbac1c2-69dd-4373-b521-d1c3514577e5",
   "metadata": {},
   "outputs": [
    {
     "ename": "",
     "evalue": "",
     "output_type": "error",
     "traceback": [
      "\u001b[1;31mFailed to start the Kernel. \n",
      "\u001b[1;31mBad file descriptor (C:\\Users\\runneradmin\\AppData\\Local\\Temp\\tmpw8fxpxar\\build\\_deps\\bundled_libzmq-src\\src\\epoll.cpp:73). \n",
      "\u001b[1;31mView Jupyter <a href='command:jupyter.viewOutput'>log</a> for further details."
     ]
    }
   ],
   "source": [
    "class TradingSystem:\n",
    "    def __init__(self, api, strategy, symbol):\n",
    "        self.__api = api\n",
    "        self.__strategy = strategy\n",
    "        self.__symbol = symbol\n",
    "        self.__price_data = []\n",
    "\n",
    "    def fetchPriceData(self):\n",
    "        data = yf.download(self.__symbol, period = '1d' ,  interval= '1m')\n",
    "        if not data.empty:\n",
    "            price = data['Close'].iloc[-1]\n",
    "            self.__price_data.append(price)\n",
    "            if len(self.__price_data)> self.__strategy.lwindow:\n",
    "                self.__strategy.lwindow.pop(0)\n",
    "                print(f\"fetched new price data : {price}\")\n",
    "            else:\n",
    "                print(\"no data fetched\")\n",
    "\n",
    "    def run(self):\n",
    "        self.fetchPriceData()\n",
    "        signal = self.__strategy.generateSignal(self.__price_data)\n",
    "        print(f\"generated signal is : {signal}\")\n",
    "        if signal in [\"sell\" , \"buy\"]:\n",
    "            trade = TradeManage(1, self.__strategy, signal)\n",
    "            trade.execute()\n",
    "            self.api.placeOrder(trade , self.__price_data[-1])\n",
    "\n",
    "    @property\n",
    "    def api(self):\n",
    "        return self.__api \n",
    "    @property\n",
    "    def strategy(self):\n",
    "        return self.__strategy \n",
    "    @property\n",
    "    def symbol(self):\n",
    "        return self.__symbol \n",
    "    @property\n",
    "    def balance(self):\n",
    "        return self.__price_data \n",
    "    \n",
    "    "
   ]
  },
  {
   "cell_type": "code",
   "execution_count": null,
   "id": "74d29cd6-9f19-4669-9527-083ab94bbb18",
   "metadata": {},
   "outputs": [
    {
     "ename": "",
     "evalue": "",
     "output_type": "error",
     "traceback": [
      "\u001b[1;31mFailed to start the Kernel. \n",
      "\u001b[1;31mBad file descriptor (C:\\Users\\runneradmin\\AppData\\Local\\Temp\\tmpw8fxpxar\\build\\_deps\\bundled_libzmq-src\\src\\epoll.cpp:73). \n",
      "\u001b[1;31mView Jupyter <a href='command:jupyter.viewOutput'>log</a> for further details."
     ]
    }
   ],
   "source": [
    "symbol = 'AAPL'\n",
    "api = MockTradingAPI(balance = 10000)\n",
    "strategy = NewsSMATradingStrategy(3,5)\n",
    "system = TradingSystem(api,strategy,'AAPL')\n",
    "\n",
    "for _ in range(3):\n",
    "    system.run()\n",
    "    print(f\"remaining  balance :{api.balance}\")\n",
    "    time.sleep(2)"
   ]
  },
  {
   "cell_type": "code",
   "execution_count": null,
   "id": "c8b40e0e-01ff-4a9b-a21b-0d646ef761de",
   "metadata": {},
   "outputs": [
    {
     "ename": "",
     "evalue": "",
     "output_type": "error",
     "traceback": [
      "\u001b[1;31mFailed to start the Kernel. \n",
      "\u001b[1;31mBad file descriptor (C:\\Users\\runneradmin\\AppData\\Local\\Temp\\tmpw8fxpxar\\build\\_deps\\bundled_libzmq-src\\src\\epoll.cpp:73). \n",
      "\u001b[1;31mView Jupyter <a href='command:jupyter.viewOutput'>log</a> for further details."
     ]
    }
   ],
   "source": [
    " data = yf.download('AAPL', period = '1d' ,  interval= '1m')\n",
    "print(data)"
   ]
  }
 ],
 "metadata": {
  "kernelspec": {
   "display_name": "Python 3 (ipykernel)",
   "language": "python",
   "name": "python3"
  },
  "language_info": {
   "codemirror_mode": {
    "name": "ipython",
    "version": 3
   },
   "file_extension": ".py",
   "mimetype": "text/x-python",
   "name": "python",
   "nbconvert_exporter": "python",
   "pygments_lexer": "ipython3",
   "version": "3.11.9"
  }
 },
 "nbformat": 4,
 "nbformat_minor": 5
}
