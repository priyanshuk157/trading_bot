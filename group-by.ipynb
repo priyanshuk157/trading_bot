{
 "cells": [
  {
   "cell_type": "code",
   "execution_count": 1,
   "id": "9e4acfe9-9794-437d-aa24-b5debb100044",
   "metadata": {},
   "outputs": [
    {
     "name": "stdout",
     "output_type": "stream",
     "text": [
      "Dataset created and saved to 'algotrading_combined_dataset.csv'\n"
     ]
    }
   ],
   "source": [
    "import pandas as pd\n",
    "import numpy as np\n",
    "\n",
    "# Function to create a synthetic dataset for a given asset type\n",
    "def create_asset_data(tickers, start_date, end_date):\n",
    "    dates = pd.date_range(start=start_date, end=end_date, freq='B')\n",
    "    data = []\n",
    "    for ticker in tickers:\n",
    "        np.random.seed(42)  # For reproducibility\n",
    "        price = np.random.randn(len(dates)).cumsum() + 100\n",
    "        for i in range(len(dates)):\n",
    "            open_price = price[i] + np.random.uniform(-1, 1)\n",
    "            high_price = max(open_price, price[i] + np.random.uniform(0, 2))\n",
    "            low_price = min(open_price, price[i] - np.random.uniform(0, 2))\n",
    "            close_price = price[i] + np.random.uniform(-1, 1)\n",
    "            volume = np.random.randint(1000, 1000000)\n",
    "            # Introduce NaN values randomly\n",
    "            if np.random.rand() < 0.05:\n",
    "                open_price = np.nan\n",
    "            if np.random.rand() < 0.05:\n",
    "                high_price = np.nan\n",
    "            if np.random.rand() < 0.05:\n",
    "                low_price = np.nan\n",
    "            if np.random.rand() < 0.05:\n",
    "                close_price = np.nan\n",
    "            if np.random.rand() < 0.05:\n",
    "                volume = np.nan\n",
    "            data.append([dates[i], ticker, open_price, high_price, low_price, close_price, volume])\n",
    "    return pd.DataFrame(data, columns=['Date', 'Ticker', 'Open', 'High', 'Low', 'Close', 'Volume'])\n",
    "\n",
    "# Define tickers for each asset type\n",
    "stock_tickers = ['AAPL', 'GOOG', 'MSFT', 'AMZN', 'TSLA']\n",
    "forex_tickers = ['EUR/USD', 'GBP/USD', 'USD/JPY', 'AUD/USD', 'USD/CAD']\n",
    "crypto_tickers = ['BTC/USD', 'ETH/USD', 'XRP/USD', 'LTC/USD', 'BCH/USD']\n",
    "\n",
    "# Generate data for each asset type\n",
    "stock_data = create_asset_data(stock_tickers, '2015-01-01', '2023-01-01')\n",
    "forex_data = create_asset_data(forex_tickers, '2015-01-01', '2023-01-01')\n",
    "crypto_data = create_asset_data(crypto_tickers, '2015-01-01', '2023-01-01')\n",
    "\n",
    "# Combine all data into a single DataFrame\n",
    "combined_data = pd.concat([stock_data, forex_data, crypto_data])\n",
    "\n",
    "# Introduce duplicate rows\n",
    "combined_data = pd.concat([combined_data, combined_data.sample(frac=0.05, random_state=42)])  # Add 5% duplicates\n",
    "\n",
    "# Save to CSV\n",
    "combined_data.to_csv('algotrading_combined_dataset.csv', index=False)\n",
    "\n",
    "print(\"Dataset created and saved to 'algotrading_combined_dataset.csv'\")"
   ]
  },
  {
   "cell_type": "code",
   "execution_count": 2,
   "id": "cfe64b98-6e90-4257-9a4b-01876f3a5773",
   "metadata": {},
   "outputs": [],
   "source": [
    "algo_df =pd.read_csv(\"algotrading_combined_dataset.csv\")"
   ]
  }
 ],
 "metadata": {
  "kernelspec": {
   "display_name": "Python 3 (ipykernel)",
   "language": "python",
   "name": "python3"
  },
  "language_info": {
   "codemirror_mode": {
    "name": "ipython",
    "version": 3
   },
   "file_extension": ".py",
   "mimetype": "text/x-python",
   "name": "python",
   "nbconvert_exporter": "python",
   "pygments_lexer": "ipython3",
   "version": "3.10.12"
  }
 },
 "nbformat": 4,
 "nbformat_minor": 5
}
