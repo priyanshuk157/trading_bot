{
 "cells": [
  {
   "cell_type": "code",
   "execution_count": 4,
   "id": "695d3590-3d29-4ef5-afc9-12925f243bc0",
   "metadata": {},
   "outputs": [],
   "source": [
    "class TradingBot:\n",
    "    \n",
    "    def __init__(self, name, initial_cash):\n",
    "        self.name = name  # Name of the trading bot\n",
    "        self.cash = initial_cash  # Starting cash in USD\n",
    "    "
   ]
  },
  {
   "cell_type": "code",
   "execution_count": 5,
   "id": "5b4f29d1-8681-439b-af01-7a7f78dd8f4e",
   "metadata": {},
   "outputs": [],
   "source": [
    "class AutoTradingBot:\n",
    "    def __init__(self,thresold):\n",
    "        self.__thresold = thresold\n",
    "        self.__postion = None\n",
    "        self.__price_data = []\n",
    "    \n",
    "    def fetch_market_data(self):\n",
    "        self.__price_data =[69140,69150,69160,69170,69180,69190]\n",
    "        return self.__price_data\n",
    "        print(\"Market data has been fetched\")\n",
    "\n",
    "    def latest_price(self):\n",
    "        if self.__price_data:\n",
    "            return self.__price_data[-1]\n",
    "        else:\n",
    "            None\n",
    "\n",
    "    def evaluate_price(self):\n",
    "        latest_price = self.latest_price()\n",
    "        if latest_price < self.__thresold:\n",
    "            return \"Sell\"\n",
    "        elif latest_price > self.__thresold:\n",
    "            return \"Buy\"\n",
    "        else:\n",
    "            return \"Hold\"\n",
    "\n",
    "    def execute_trade(self,action):\n",
    "        if action == \"Sell\" and self.__postion != \"Short\":\n",
    "            self.__postion == \"Short\"\n",
    "            return \"Sell trade has been executed  & Current position is 'Short\"  \n",
    "\n",
    "        elif action  == \"Buy\" and self.__postion != \"Long\":\n",
    "            self.__postion == \"Long\"\n",
    "            return \"Buy  trade has been executed  & Current position is 'Long\" \n",
    "        \n",
    "        elif action  == \"Hold\" :\n",
    "            self.__postion == \"Hold\"\n",
    "            return \"The Trade is on Hold for now  & Current position is 'Hold\" \n",
    "    "
   ]
  },
  {
   "cell_type": "code",
   "execution_count": 6,
   "id": "49c3ef2d-1215-4a01-86f7-c3af4458335e",
   "metadata": {},
   "outputs": [
    {
     "name": "stdout",
     "output_type": "stream",
     "text": [
      "[69140, 69150, 69160, 69170, 69180, 69190]\n",
      "69190\n",
      "Buy\n"
     ]
    }
   ],
   "source": [
    "bot3 = AutoTradingBot(69160)\n",
    "print(bot3.fetch_market_data())\n",
    "print(bot3.latest_price())\n",
    "print(bot3.evaluate_price())\n"
   ]
  }
 ],
 "metadata": {
  "kernelspec": {
   "display_name": "Python 3 (ipykernel)",
   "language": "python",
   "name": "python3"
  },
  "language_info": {
   "codemirror_mode": {
    "name": "ipython",
    "version": 3
   },
   "file_extension": ".py",
   "mimetype": "text/x-python",
   "name": "python",
   "nbconvert_exporter": "python",
   "pygments_lexer": "ipython3",
   "version": "3.10.12"
  }
 },
 "nbformat": 4,
 "nbformat_minor": 5
}
