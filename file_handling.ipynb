{
 "cells": [
  {
   "cell_type": "code",
   "execution_count": 3,
   "id": "748ea99a-734f-46c2-82d6-2fc8d0f62c4f",
   "metadata": {},
   "outputs": [],
   "source": [
    "f = open(\"trade.csv\", \"w\")\n",
    "f.write(\"i am priyanshu\")\n",
    "f.close()"
   ]
  }
 ],
 "metadata": {
  "kernelspec": {
   "display_name": "Python 3 (ipykernel)",
   "language": "python",
   "name": "python3"
  },
  "language_info": {
   "codemirror_mode": {
    "name": "ipython",
    "version": 3
   },
   "file_extension": ".py",
   "mimetype": "text/x-python",
   "name": "python",
   "nbconvert_exporter": "python",
   "pygments_lexer": "ipython3",
   "version": "3.10.12"
  }
 },
 "nbformat": 4,
 "nbformat_minor": 5
}
