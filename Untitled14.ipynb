{
 "cells": [
  {
   "cell_type": "code",
   "execution_count": 2,
   "id": "8849a669-a9ea-4b29-ae35-cf6f5fb5dc0a",
   "metadata": {},
   "outputs": [],
   "source": [
    "import torch\n",
    "import torchvision\n",
    "from torchvision.datasets import MNIST\n"
   ]
  },
  {
   "cell_type": "code",
   "execution_count": 3,
   "id": "6d5cd91f-cb55-4853-8fa3-69c2b79e8757",
   "metadata": {},
   "outputs": [],
   "source": [
    "dataset = MNIST(root = 'data/' , download = True )"
   ]
  },
  {
   "cell_type": "code",
   "execution_count": 4,
   "id": "2905c6a0-152f-4d62-aa13-0379d1805cda",
   "metadata": {},
   "outputs": [
    {
     "data": {
      "text/plain": [
       "(<PIL.Image.Image image mode=L size=28x28 at 0x7F93C348F1F0>, 5)"
      ]
     },
     "execution_count": 4,
     "metadata": {},
     "output_type": "execute_result"
    }
   ],
   "source": [
    "test_dataset = MNIST(root = 'data/' ,  train = False)\n",
    "len(test_dataset)\n",
    "dataset[0]"
   ]
  },
  {
   "cell_type": "code",
   "execution_count": 5,
   "id": "97b62a1b-4ecf-4fa4-8d03-6c9b42de0b68",
   "metadata": {},
   "outputs": [],
   "source": [
    "import matplotlib.pyplot as plt\n",
    "%matplotlib inline\n"
   ]
  },
  {
   "cell_type": "code",
   "execution_count": 6,
   "id": "1e1f73c3-a763-44cb-acc2-fe5bedd9ea66",
   "metadata": {},
   "outputs": [
    {
     "name": "stdout",
     "output_type": "stream",
     "text": [
      "Label : 5\n"
     ]
    },
    {
     "data": {
      "image/png": "[encoded data removed]",
      "text/plain": [
       "<Figure size 432x288 with 1 Axes>"
      ]
     },
     "metadata": {
      "needs_background": "light"
     },
     "output_type": "display_data"
    }
   ],
   "source": [
    "image , label = dataset[0]\n",
    "plt.imshow(image, cmap = 'gray')\n",
    "print( 'Label :' , label)\n"
   ]
  },
  {
   "cell_type": "code",
   "execution_count": 7,
   "id": "8bdae621-1e4e-4d1f-a3bc-2acfeef51f26",
   "metadata": {},
   "outputs": [
    {
     "name": "stdout",
     "output_type": "stream",
     "text": [
      "Label : 4\n"
     ]
    },
    {
     "data": {
      "image/png": "[encoded data removed]",
      "text/plain": [
       "<Figure size 432x288 with 1 Axes>"
      ]
     },
     "metadata": {
      "needs_background": "light"
     },
     "output_type": "display_data"
    }
   ],
   "source": [
    "image , label = dataset[20]\n",
    "plt.imshow(image, cmap = 'gray')\n",
    "print( 'Label :' , label)"
   ]
  },
  {
   "cell_type": "code",
   "execution_count": 8,
   "id": "228a51d4-3c12-4cab-bcb5-b89fc98b8e7c",
   "metadata": {},
   "outputs": [],
   "source": [
    "import torchvision.transforms as transforms"
   ]
  },
  {
   "cell_type": "code",
   "execution_count": 9,
   "id": "b2c0aa06-354a-4442-92a9-4609ac07f7c1",
   "metadata": {},
   "outputs": [],
   "source": [
    "#converting to tensors\n",
    "dataset = MNIST(root= 'data/', train = True , transform = transforms.ToTensor())"
   ]
  },
  {
   "cell_type": "code",
   "execution_count": 10,
   "id": "3182d73e-ef3a-4c9f-9faf-2d8b01b227fe",
   "metadata": {},
   "outputs": [
    {
     "name": "stdout",
     "output_type": "stream",
     "text": [
      "tensor([[[0.0039, 0.6039, 0.9922, 0.3529, 0.0000],\n",
      "         [0.0000, 0.5451, 0.9922, 0.7451, 0.0078],\n",
      "         [0.0000, 0.0431, 0.7451, 0.9922, 0.2745],\n",
      "         [0.0000, 0.0000, 0.1373, 0.9451, 0.8824],\n",
      "         [0.0000, 0.0000, 0.0000, 0.3176, 0.9412]]])\n",
      "tensor(1.) tensor(0.)\n"
     ]
    }
   ],
   "source": [
    "img_tensor , label =  dataset[0]\n",
    "print(img_tensor[: , 10:15 , 10:15])\n",
    "print(torch.max(img_tensor) , torch.min(img_tensor))"
   ]
  },
  {
   "cell_type": "code",
   "execution_count": 11,
   "id": "c4207d0f-ac08-41b8-93fc-64bb323eb589",
   "metadata": {},
   "outputs": [
    {
     "data": {
      "text/plain": [
       "<matplotlib.image.AxesImage at 0x7f93bbe93b80>"
      ]
     },
     "execution_count": 11,
     "metadata": {},
     "output_type": "execute_result"
    },
    {
     "data": {
      "image/png": "[encoded data removed]",
      "text/plain": [
       "<Figure size 432x288 with 1 Axes>"
      ]
     },
     "metadata": {
      "needs_background": "light"
     },
     "output_type": "display_data"
    }
   ],
   "source": [
    "plt.imshow(img_tensor[0, 10:15 , 10:15] , cmap= 'gray')\n"
   ]
  },
  {
   "cell_type": "code",
   "execution_count": 13,
   "id": "203a87b3-15a5-4de5-9500-7d4182ffe375",
   "metadata": {},
   "outputs": [
    {
     "data": {
      "text/plain": [
       "(50000, 10000)"
      ]
     },
     "execution_count": 13,
     "metadata": {},
     "output_type": "execute_result"
    }
   ],
   "source": [
    "from torch.utils.data import random_split\n",
    "\n",
    "train_ds ,  val_ds = random_split(dataset, [50000, 10000])\n",
    "len(train_ds) , len(val_ds)"
   ]
  },
  {
   "cell_type": "code",
   "execution_count": 16,
   "id": "fba33d9b-3ba3-4533-a82f-3eb0713cf3d3",
   "metadata": {},
   "outputs": [],
   "source": [
    "from torch.utils.data import DataLoader\n",
    "\n",
    "batch_size = 128\n",
    "\n",
    "train_loader = DataLoader(train_ds , batch_size , shuffle = True )\n",
    "val_loader = DataLoader(val_ds , batch_size )"
   ]
  },
  {
   "cell_type": "code",
   "execution_count": 19,
   "id": "2dfac7ab-3592-4f35-88ab-8b4cc516b715",
   "metadata": {},
   "outputs": [],
   "source": [
    "#defining the model\n",
    "import torch.nn as nn\n",
    "input_size =  28*28\n",
    "num_classes = 10\n",
    "\n",
    "#logistic regression model\n",
    "model = nn.Linear(input_size , num_classes )\n"
   ]
  },
  {
   "cell_type": "code",
   "execution_count": 20,
   "id": "ffabd124-dcdb-4566-8349-a1cf185f9f6c",
   "metadata": {},
   "outputs": [
    {
     "name": "stdout",
     "output_type": "stream",
     "text": [
      "torch.Size([10, 784])\n"
     ]
    },
    {
     "data": {
      "text/plain": [
       "Parameter containing:\n",
       "tensor([[ 0.0124,  0.0107,  0.0208,  ..., -0.0346, -0.0128,  0.0331],\n",
       "        [ 0.0116,  0.0317,  0.0241,  ..., -0.0188, -0.0312, -0.0100],\n",
       "        [ 0.0257,  0.0306,  0.0349,  ...,  0.0216,  0.0132, -0.0274],\n",
       "        ...,\n",
       "        [-0.0180, -0.0069,  0.0303,  ...,  0.0007,  0.0040,  0.0253],\n",
       "        [-0.0028,  0.0196, -0.0202,  ..., -0.0302, -0.0128, -0.0294],\n",
       "        [-0.0018,  0.0057,  0.0218,  ..., -0.0023,  0.0352,  0.0335]],\n",
       "       requires_grad=True)"
      ]
     },
     "execution_count": 20,
     "metadata": {},
     "output_type": "execute_result"
    }
   ],
   "source": [
    "print(model.weight.shape)\n",
    "model.weight\n"
   ]
  },
  {
   "cell_type": "code",
   "execution_count": 25,
   "id": "b18df093-13c6-4126-a625-b5949e293b7c",
   "metadata": {},
   "outputs": [
    {
     "name": "stdout",
     "output_type": "stream",
     "text": [
      "torch.Size([10])\n"
     ]
    },
    {
     "data": {
      "text/plain": [
       "Parameter containing:\n",
       "tensor([-0.0045, -0.0082, -0.0018, -0.0296, -0.0011, -0.0049,  0.0235, -0.0083,\n",
       "        -0.0270,  0.0069], requires_grad=True)"
      ]
     },
     "execution_count": 25,
     "metadata": {},
     "output_type": "execute_result"
    }
   ],
   "source": [
    "print(model.bias.shape)\n",
    "model.bias"
   ]
  },
  {
   "cell_type": "code",
   "execution_count": 35,
   "id": "d9e2fb0e-fa07-4768-ae2a-167700dce964",
   "metadata": {},
   "outputs": [],
   "source": [
    "class MnistModel(nn.Module):\n",
    "    def __init__(self):\n",
    "        super().__init__()\n",
    "        self.linear = nn.Linear(input_size , num_classes )\n",
    "\n",
    "    def forward ( self , xb ) :\n",
    "        xb = xb.reshape(-1 , 784 )\n",
    "        out = self.linear(xb)\n",
    "        return out\n",
    "\n",
    "model = MnistModel()\n",
    "    "
   ]
  },
  {
   "cell_type": "code",
   "execution_count": 36,
   "id": "16926cd0-09c1-4f0e-a967-179fe484ddaf",
   "metadata": {},
   "outputs": [
    {
     "data": {
      "text/plain": [
       "Linear(in_features=784, out_features=10, bias=True)"
      ]
     },
     "execution_count": 36,
     "metadata": {},
     "output_type": "execute_result"
    }
   ],
   "source": [
    "model.linear"
   ]
  },
  {
   "cell_type": "code",
   "execution_count": 38,
   "id": "814972f3-dc97-42af-a054-8e613e377029",
   "metadata": {},
   "outputs": [
    {
     "name": "stdout",
     "output_type": "stream",
     "text": [
      "torch.Size([10, 784]) torch.Size([10])\n"
     ]
    },
    {
     "data": {
      "text/plain": [
       "[Parameter containing:\n",
       " tensor([[-0.0278,  0.0332,  0.0140,  ..., -0.0132,  0.0018, -0.0205],\n",
       "         [-0.0037,  0.0161,  0.0016,  ..., -0.0003,  0.0302, -0.0180],\n",
       "         [ 0.0294,  0.0091,  0.0033,  ..., -0.0295,  0.0069, -0.0268],\n",
       "         ...,\n",
       "         [ 0.0180,  0.0207, -0.0170,  ...,  0.0217,  0.0342, -0.0194],\n",
       "         [-0.0241, -0.0295,  0.0340,  ...,  0.0053, -0.0219, -0.0102],\n",
       "         [ 0.0015,  0.0037, -0.0102,  ..., -0.0035,  0.0272,  0.0007]],\n",
       "        requires_grad=True),\n",
       " Parameter containing:\n",
       " tensor([ 0.0193,  0.0153, -0.0302, -0.0171,  0.0275,  0.0028, -0.0152, -0.0336,\n",
       "          0.0206, -0.0144], requires_grad=True)]"
      ]
     },
     "execution_count": 38,
     "metadata": {},
     "output_type": "execute_result"
    }
   ],
   "source": [
    "print(model.linear.weight.shape , model.linear.bias.shape)\n",
    "list(model.parameters())"
   ]
  },
  {
   "cell_type": "code",
   "execution_count": 41,
   "id": "f0b2278e-821a-40aa-9fc4-80f4492fe3eb",
   "metadata": {},
   "outputs": [
    {
     "name": "stdout",
     "output_type": "stream",
     "text": [
      "outputs_shape :  torch.Size([128, 10])\n",
      "sample_output : \n",
      " tensor([[ 0.2832,  0.2259,  0.1548, -0.1021, -0.1003, -0.2863,  0.0236, -0.0467,\n",
      "         -0.1221, -0.4551],\n",
      "        [ 0.2559, -0.0150,  0.2842, -0.0965,  0.0436, -0.0005, -0.1669,  0.0720,\n",
      "          0.2427, -0.0475]])\n"
     ]
    }
   ],
   "source": [
    "for images , labels   in train_loader:\n",
    "  \n",
    "    outputs = model(images)\n",
    "    \n",
    "    break\n",
    "\n",
    "print('outputs_shape : ' , outputs.shape)\n",
    "print('sample_output : \\n' , outputs[:2].data)\n",
    "    "
   ]
  },
  {
   "cell_type": "code",
   "execution_count": 44,
   "id": "a1a3aa7a-6a89-4e29-a755-ebfea42954d1",
   "metadata": {},
   "outputs": [],
   "source": [
    "import torch.nn.functional as F\n",
    " "
   ]
  },
  {
   "cell_type": "code",
   "execution_count": 48,
   "id": "80cf4103-2391-4c10-827e-e98053f8602f",
   "metadata": {},
   "outputs": [
    {
     "name": "stdout",
     "output_type": "stream",
     "text": [
      "sample_probabilities : tensor([[0.1354, 0.1278, 0.1191, 0.0921, 0.0923, 0.0766, 0.1044, 0.0973, 0.0903,\n",
      "         0.0647],\n",
      "        [0.1206, 0.0920, 0.1241, 0.0848, 0.0976, 0.0933, 0.0790, 0.1004, 0.1191,\n",
      "         0.0891]])\n",
      " sum:  1.0000001192092896\n"
     ]
    }
   ],
   "source": [
    "probs =  F.softmax(outputs , dim = 1 )\n",
    "print('sample_probabilities :' , probs[0:2].data)\n",
    "\n",
    "print(' sum: ' , torch.sum(probs[0]).item())"
   ]
  },
  {
   "cell_type": "code",
   "execution_count": 50,
   "id": "a1521e8d-e864-4774-b720-442c367735ed",
   "metadata": {},
   "outputs": [
    {
     "name": "stdout",
     "output_type": "stream",
     "text": [
      "tensor([0, 2, 0, 6, 6, 8, 2, 0, 0, 0, 0, 0, 4, 0, 6, 0, 5, 0, 0, 0, 0, 6, 0, 0,\n",
      "        0, 0, 4, 2, 6, 0, 2, 0, 0, 0, 3, 0, 0, 6, 0, 0, 2, 5, 4, 6, 0, 0, 0, 2,\n",
      "        0, 2, 6, 0, 0, 0, 0, 1, 2, 0, 0, 0, 0, 5, 0, 0, 6, 1, 0, 6, 0, 0, 5, 0,\n",
      "        1, 0, 0, 0, 2, 4, 0, 0, 0, 0, 0, 2, 0, 0, 0, 4, 6, 5, 5, 0, 0, 8, 0, 5,\n",
      "        0, 6, 0, 0, 0, 6, 0, 0, 5, 0, 6, 1, 0, 0, 4, 0, 2, 0, 4, 1, 2, 2, 0, 0,\n",
      "        0, 2, 0, 0, 0, 6, 0, 0])\n",
      "tensor([0.1354, 0.1241, 0.1425, 0.1660, 0.1597, 0.1156, 0.1227, 0.1155, 0.1469,\n",
      "        0.1368, 0.1218, 0.1254, 0.1504, 0.1446, 0.1447, 0.1602, 0.1165, 0.1653,\n",
      "        0.1343, 0.1441, 0.1174, 0.1207, 0.1418, 0.1404, 0.1355, 0.1316, 0.1126,\n",
      "        0.1179, 0.1317, 0.1411, 0.1416, 0.1184, 0.1546, 0.1361, 0.1231, 0.1386,\n",
      "        0.1312, 0.1552, 0.1339, 0.1377, 0.1398, 0.1167, 0.1143, 0.1246, 0.1407,\n",
      "        0.1243, 0.1474, 0.1245, 0.1636, 0.1406, 0.1253, 0.1496, 0.1436, 0.1311,\n",
      "        0.1243, 0.1243, 0.1315, 0.1547, 0.1572, 0.1170, 0.1630, 0.1433, 0.1518,\n",
      "        0.1246, 0.1557, 0.1371, 0.1305, 0.1369, 0.1338, 0.1512, 0.1276, 0.1461,\n",
      "        0.1252, 0.1698, 0.1894, 0.1352, 0.1215, 0.1136, 0.1443, 0.1565, 0.1338,\n",
      "        0.1348, 0.1321, 0.1185, 0.1357, 0.1413, 0.1295, 0.1272, 0.1202, 0.1235,\n",
      "        0.1185, 0.1212, 0.1503, 0.1214, 0.1440, 0.1230, 0.1554, 0.1508, 0.1552,\n",
      "        0.1351, 0.1506, 0.1499, 0.1273, 0.1475, 0.1245, 0.1275, 0.1614, 0.1209,\n",
      "        0.1543, 0.1459, 0.1233, 0.1408, 0.1498, 0.1543, 0.1370, 0.1226, 0.1179,\n",
      "        0.1458, 0.1574, 0.1203, 0.1621, 0.1283, 0.1454, 0.1788, 0.1692, 0.1458,\n",
      "        0.1386, 0.1398], grad_fn=<MaxBackward0>)\n"
     ]
    }
   ],
   "source": [
    "max_probs , preds = torch.max(probs , dim = 1)\n",
    "print(preds)\n",
    "print(max_probs)"
   ]
  },
  {
   "cell_type": "code",
   "execution_count": 55,
   "id": "69b64a53-316f-4bb5-bb32-64405de80938",
   "metadata": {},
   "outputs": [
    {
     "data": {
      "text/plain": [
       "tensor(14)"
      ]
     },
     "execution_count": 55,
     "metadata": {},
     "output_type": "execute_result"
    }
   ],
   "source": [
    "torch.sum(preds == labels)\n"
   ]
  },
  {
   "cell_type": "code",
   "execution_count": 63,
   "id": "7e81941c-e618-4205-be3d-677f41b704be",
   "metadata": {},
   "outputs": [],
   "source": [
    "def accuracy(output , labels):\n",
    "    _, preds =  torch.max(outputs , dim=1)\n",
    "    return torch.tensor(torch.sum(preds == labels).item() / len(preds))"
   ]
  },
  {
   "cell_type": "code",
   "execution_count": 65,
   "id": "621e7c23-a0ab-4d8b-8801-2df28b10af3f",
   "metadata": {},
   "outputs": [
    {
     "data": {
      "text/plain": [
       "tensor(0.1094)"
      ]
     },
     "execution_count": 65,
     "metadata": {},
     "output_type": "execute_result"
    }
   ],
   "source": [
    "accuracy(output , labels)"
   ]
  },
  {
   "cell_type": "code",
   "execution_count": 69,
   "id": "865abd76-f52a-49a0-b49c-d261b2257d6c",
   "metadata": {},
   "outputs": [
    {
     "name": "stdout",
     "output_type": "stream",
     "text": [
      "tensor(2.3104, grad_fn=<NllLossBackward0>)\n"
     ]
    }
   ],
   "source": [
    "loss_fn  = F.cross_entropy\n",
    "\n",
    "loss = loss_fn(outputs , labels)\n",
    "print(loss)"
   ]
  },
  {
   "cell_type": "code",
   "execution_count": null,
   "id": "471b8157-e076-4a5d-a0a5-b3c8dd6895c0",
   "metadata": {},
   "outputs": [],
   "source": [
    "# training phase \n",
    "# 1) generate predictions\n",
    "# 2) calculate loss\n",
    "# 3) compute gradients\n",
    "# 4) update weights\n",
    "# 5) reset gradients\n",
    "\n",
    "\n"
   ]
  }
 ],
 "metadata": {
  "kernelspec": {
   "display_name": "Python 3 (ipykernel)",
   "language": "python",
   "name": "python3"
  },
  "language_info": {
   "codemirror_mode": {
    "name": "ipython",
    "version": 3
   },
   "file_extension": ".py",
   "mimetype": "text/x-python",
   "name": "python",
   "nbconvert_exporter": "python",
   "pygments_lexer": "ipython3",
   "version": "3.10.12"
  }
 },
 "nbformat": 4,
 "nbformat_minor": 5
}
