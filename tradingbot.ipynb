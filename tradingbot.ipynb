{
 "cells": [
  {
   "cell_type": "code",
   "execution_count": 84,
   "id": "a4834115-6fdf-413e-9c6f-ffaec627e7c2",
   "metadata": {},
   "outputs": [],
   "source": [
    "from datetime import datetime\n",
    "import yfinance as yf\n",
    "import time"
   ]
  },
  {
   "cell_type": "code",
   "execution_count": 85,
   "id": "4a0341a4-d7ed-4fb5-9b1f-58fa4be78a09",
   "metadata": {},
   "outputs": [],
   "source": [
    "class MyTradingStrategy:\n",
    "    def __init__(self, name):\n",
    "        self.__name = name\n",
    "\n",
    "    def generateSignal(self , price_data):\n",
    "        print(\"this method is intended to be over ridden\")\n",
    "        return \"Hold\"\n",
    "    @property\n",
    "    def name(self):\n",
    "        return self.__name\n",
    "    "
   ]
  },
  {
   "cell_type": "code",
   "execution_count": 86,
   "id": "b2dc7295-8d85-4575-9a1f-080d7100bb00",
   "metadata": {},
   "outputs": [
    {
     "data": {
      "text/plain": [
       "'awesome'"
      ]
     },
     "execution_count": 86,
     "metadata": {},
     "output_type": "execute_result"
    }
   ],
   "source": [
    "obj1 = MyTradingStrategy(\"awesome\")\n",
    "obj1.name\n"
   ]
  },
  {
   "cell_type": "code",
   "execution_count": 87,
   "id": "3d32f209-b0ac-4e45-aa80-dcd821df9a2c",
   "metadata": {},
   "outputs": [],
   "source": [
    "class NewsSMATradingStrategy(MyTradingStrategy):\n",
    "     def __init__(self, swindow , lwindow):\n",
    "         self.__swindow = swindow\n",
    "         self.__lwindow = lwindow\n",
    "         super().__init__(\"MYSMATRADING\")\n",
    "\n",
    "     def generateSignal(self,price_data):\n",
    "         if len(price_data[-self.__lwindow:]) < self.__lwindow:\n",
    "            return \"hold\"\n",
    "         short_avg = sum(price_data[-self.__swindow:])/self.__swindow \n",
    "         long_avg = sum(price_data[-self.__lwindow:])/self.__lwindow \n",
    "\n",
    "         if short_avg > long_avg:\n",
    "            return \"buy\"\n",
    "           \n",
    "         elif short_avg < long_avg:\n",
    "            return \"sell\"\n",
    "         else:\n",
    "            return \"hold\"\n",
    "\n",
    "     @property\n",
    "     def swindow(self):\n",
    "        return self.__swindow\n",
    "        \n",
    "     @property\n",
    "     def lwindow(self):\n",
    "        return self.__lwindow"
   ]
  },
  {
   "cell_type": "code",
   "execution_count": 88,
   "id": "5bd28304-3fdb-4d4e-aa92-4a61d656a2fd",
   "metadata": {},
   "outputs": [],
   "source": [
    "class TradeManage:\n",
    "    def __init__(self, amount, strategyName, signal):\n",
    "        self.__strategyName = strategyName\n",
    "        self.__signal = signal\n",
    "        self.__amount = amount\n",
    "        self.__timestamp = datetime.now()  \n",
    "\n",
    "    def execute(self):\n",
    "        print(f\"Execute {self.__signal} with the strategy name {self.__strategyName} and amount of {self.__amount} at time {self.__timestamp} \")\n",
    "\n",
    "    @property\n",
    "    def amount(self):\n",
    "        return self.__amount\n",
    "        \n",
    "    @property\n",
    "    def signal(self):\n",
    "        return self.__signal\n",
    "    @property\n",
    "    def strategyName(self):\n",
    "        return self.__strategyName\n",
    "    @property\n",
    "    def timestamp(self):\n",
    "        return self.__timestamp"
   ]
  },
  {
   "cell_type": "code",
   "execution_count": 89,
   "id": "c0b5ae40-2d56-4485-90c7-454d13b77c1b",
   "metadata": {},
   "outputs": [
    {
     "name": "stdout",
     "output_type": "stream",
     "text": [
      "Execute buy with the strategy name MYSMATRADING and amount of 10000 at time 2024-07-17 19:52:52.095314 \n",
      "buy\n",
      "MYSMATRADING\n",
      "2024-07-17 19:52:52.095314\n",
      "10000\n"
     ]
    }
   ],
   "source": [
    "obj1 = NewsSMATradingStrategy(3 , 5)\n",
    "strategy_Name = obj1.name\n",
    "signal = obj1.generateSignal([1,2,3,4,5,6,7])\n",
    "NewTrading = TradeManage(10000, strategy_Name, signal)\n",
    "NewTrading.execute()\n",
    "print(NewTrading.signal)\n",
    "print(NewTrading.strategyName)\n",
    "print(NewTrading.timestamp)\n",
    "print(NewTrading.amount)"
   ]
  },
  {
   "cell_type": "code",
   "execution_count": 90,
   "id": "d295acb9-eb9d-4647-ab08-da8662f56e82",
   "metadata": {},
   "outputs": [],
   "source": [
    "\n",
    "#Mock trading  API\n",
    "trade = TradeManage(10000, strategy_Name, signal)\n",
    "\n",
    "class MockTradingAPI:\n",
    "    def __init__(self, balance):\n",
    "        self.__balance = balance\n",
    "\n",
    "    def placeOrder(self, trade, price):\n",
    "        if trade.signal == \"Buy\" and self.balance >= trade.amount * price:\n",
    "            self.__balance -= trade.amount*price \n",
    "            print(f\"placed a buy trade at the price of {price} , remaining balance is {self.__balance}\")\n",
    "        \n",
    "        elif trade.signal == \"Sell\":\n",
    "            self.__balance += trade.amount*price\n",
    "            print(f\"placed a sell trade at the price of {price} , remaining balance is {self.__balance}\")\n",
    "        \n",
    "        else:\n",
    "            print(\"insufficient balance or invalid signal\")\n",
    "    @property\n",
    "    def balance(self):\n",
    "        return self.__balance        "
   ]
  },
  {
   "cell_type": "code",
   "execution_count": 117,
   "id": "6dbac1c2-69dd-4373-b521-d1c3514577e5",
   "metadata": {},
   "outputs": [],
   "source": [
    "class TradingSystem:\n",
    "    def __init__(self, api, strategy, symbol):\n",
    "        self.__api = api\n",
    "        self.__strategy = strategy\n",
    "        self.__symbol = symbol\n",
    "        self.__price_data = []\n",
    "\n",
    "    def fetchPriceData(self):\n",
    "        data = yf.download(self.__symbol, period = '1d' ,  interval= '1m')\n",
    "        if not data.empty:\n",
    "            price = data['Close'].iloc[-1]\n",
    "            self.__price_data.append(price)\n",
    "            if len(self.__price_data)> self.__strategy.lwindow:\n",
    "                self.__strategy.lwindow.pop(0)\n",
    "                print(f\"fetched new price data : {price}\")\n",
    "            else:\n",
    "                print(\"no data fetched\")\n",
    "\n",
    "    def run(self):\n",
    "        self.fetchPriceData()\n",
    "        signal = self.__strategy.generateSignal(self.__price_data)\n",
    "        print(f\"generated signal is : {signal}\")\n",
    "        if signal in [\"sell\" , \"buy\"]:\n",
    "            trade = TradeManage(1, self.__strategy, signal)\n",
    "            trade.execute()\n",
    "            self.api.placeOrder(trade , self.__price_data[-1])\n",
    "\n",
    "    @property\n",
    "    def api(self):\n",
    "        return self.__api \n",
    "    @property\n",
    "    def strategy(self):\n",
    "        return self.__strategy \n",
    "    @property\n",
    "    def symbol(self):\n",
    "        return self.__symbol \n",
    "    @property\n",
    "    def balance(self):\n",
    "        return self.__price_data \n",
    "    \n",
    "    "
   ]
  },
  {
   "cell_type": "code",
   "execution_count": 118,
   "id": "74d29cd6-9f19-4669-9527-083ab94bbb18",
   "metadata": {},
   "outputs": [
    {
     "name": "stderr",
     "output_type": "stream",
     "text": [
      "[*********************100%%**********************]  1 of 1 completed\n"
     ]
    },
    {
     "name": "stdout",
     "output_type": "stream",
     "text": [
      "no data fetched\n",
      "generated signal is : hold\n",
      "remaining  balance :10000\n"
     ]
    },
    {
     "name": "stderr",
     "output_type": "stream",
     "text": [
      "[*********************100%%**********************]  1 of 1 completed\n"
     ]
    },
    {
     "name": "stdout",
     "output_type": "stream",
     "text": [
      "no data fetched\n",
      "generated signal is : hold\n",
      "remaining  balance :10000\n"
     ]
    },
    {
     "name": "stderr",
     "output_type": "stream",
     "text": [
      "[*********************100%%**********************]  1 of 1 completed\n"
     ]
    },
    {
     "name": "stdout",
     "output_type": "stream",
     "text": [
      "no data fetched\n",
      "generated signal is : hold\n",
      "remaining  balance :10000\n"
     ]
    }
   ],
   "source": [
    "symbol = 'AAPL'\n",
    "api = MockTradingAPI(balance = 10000)\n",
    "strategy = NewsSMATradingStrategy(3,5)\n",
    "system = TradingSystem(api,strategy,'AAPL')\n",
    "\n",
    "for _ in range(3):\n",
    "    system.run()\n",
    "    print(f\"remaining  balance :{api.balance}\")\n",
    "    time.sleep(2)"
   ]
  },
  {
   "cell_type": "code",
   "execution_count": 116,
   "id": "c8b40e0e-01ff-4a9b-a21b-0d646ef761de",
   "metadata": {},
   "outputs": [
    {
     "name": "stderr",
     "output_type": "stream",
     "text": [
      "[*********************100%%**********************]  1 of 1 completed"
     ]
    },
    {
     "name": "stdout",
     "output_type": "stream",
     "text": [
      "                                 Open        High         Low       Close  \\\n",
      "Datetime                                                                    \n",
      "2024-07-17 09:30:00-04:00  230.130005  230.184998  229.339996  230.130005   \n",
      "2024-07-17 09:31:00-04:00  230.149994  230.799896  229.570007  230.779999   \n",
      "2024-07-17 09:32:00-04:00  230.794998  231.050003  230.729996  230.994995   \n",
      "2024-07-17 09:33:00-04:00  231.000000  231.169998  230.500000  231.070007   \n",
      "2024-07-17 09:34:00-04:00  231.070007  231.459900  230.899994  230.914993   \n",
      "...                               ...         ...         ...         ...   \n",
      "2024-07-17 10:31:00-04:00  227.649994  227.919907  227.550003  227.880005   \n",
      "2024-07-17 10:32:00-04:00  227.910004  228.139999  227.729996  227.906403   \n",
      "2024-07-17 10:33:00-04:00  227.899994  228.070007  227.830002  228.039993   \n",
      "2024-07-17 10:34:00-04:00  228.039993  228.300003  228.020004  228.060104   \n",
      "2024-07-17 10:35:00-04:00  228.360001  228.360001  228.360001  228.360001   \n",
      "\n",
      "                            Adj Close   Volume  \n",
      "Datetime                                        \n",
      "2024-07-17 09:30:00-04:00  230.130005  3045546  \n",
      "2024-07-17 09:31:00-04:00  230.779999   411695  \n",
      "2024-07-17 09:32:00-04:00  230.994995   407406  \n",
      "2024-07-17 09:33:00-04:00  231.070007   338292  \n",
      "2024-07-17 09:34:00-04:00  230.914993   396378  \n",
      "...                               ...      ...  \n",
      "2024-07-17 10:31:00-04:00  227.880005   114130  \n",
      "2024-07-17 10:32:00-04:00  227.906403   126559  \n",
      "2024-07-17 10:33:00-04:00  228.039993    73203  \n",
      "2024-07-17 10:34:00-04:00  228.060104   166266  \n",
      "2024-07-17 10:35:00-04:00  228.360001        0  \n",
      "\n",
      "[66 rows x 6 columns]\n"
     ]
    },
    {
     "name": "stderr",
     "output_type": "stream",
     "text": [
      "\n"
     ]
    }
   ],
   "source": [
    " data = yf.download('AAPL', period = '1d' ,  interval= '1m')\n",
    "print(data)"
   ]
  }
 ],
 "metadata": {
  "kernelspec": {
   "display_name": "Python 3 (ipykernel)",
   "language": "python",
   "name": "python3"
  },
  "language_info": {
   "codemirror_mode": {
    "name": "ipython",
    "version": 3
   },
   "file_extension": ".py",
   "mimetype": "text/x-python",
   "name": "python",
   "nbconvert_exporter": "python",
   "pygments_lexer": "ipython3",
   "version": "3.10.12"
  }
 },
 "nbformat": 4,
 "nbformat_minor": 5
}
